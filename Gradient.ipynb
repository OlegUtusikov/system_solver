{
 "cells": [
  {
   "cell_type": "markdown",
   "metadata": {},
   "source": [
    "В данной задаче требуется решить численно систему линейных алгебраических уравнений методом сопряженных градиентов. Текущий способ требует от исходной матрицы выполнения свойств симметричности и положительной определенности. Но даже если они не выполняются, то, согласно замечанию 1 конспекта, \"систему можно привести к эквивалентному виду домножением обеих частей равенства на транспонированную матрицу ATAx=ATb\". Для простоты будем генерировать сразу подходящие матрицы, хоть это и несколько сложнее."
   ]
  },
  {
   "cell_type": "code",
   "execution_count": 1,
   "metadata": {},
   "outputs": [],
   "source": [
    "import numpy as np\n",
    "import pandas as pd\n",
    "from math import sqrt"
   ]
  },
  {
   "cell_type": "markdown",
   "metadata": {},
   "source": [
    "Зададим размер матриц."
   ]
  },
  {
   "cell_type": "code",
   "execution_count": 2,
   "metadata": {},
   "outputs": [],
   "source": [
    "N = 10"
   ]
  },
  {
   "cell_type": "markdown",
   "metadata": {},
   "source": [
    "Напишем функцию решения СЛАУ методом сопряженных градиентов, используя условия малости невязки для остановки. А также близость двух приближений друг к другу (apx1, apx2)."
   ]
  },
  {
   "cell_type": "code",
   "execution_count": 3,
   "metadata": {},
   "outputs": [],
   "source": [
    "def calc_b(A, p, g):\n",
    "    ap = np.dot(A,p)\n",
    "    return (np.dot(ap, g)) / np.dot(ap, p)\n",
    "def calc_a(A, p, g):\n",
    "    ap=np.dot(A, p)\n",
    "    return -(np.dot(g, p) / np.dot(ap, p))\n",
    "def calc_p(g, b, p):\n",
    "    return -g + np.multiply(b, p)\n",
    "def calc_g(A, B, x):\n",
    "    return np.subtract(np.dot(A, x), b)\n",
    "def solve(A, B, max_iterations=1000):\n",
    "    n=len(A)\n",
    "    x=B\n",
    "    g=calc_g(A, B, x)\n",
    "    p=g\n",
    "    a=calc_a(A, p, g)\n",
    "    it = 0\n",
    "    while (np.linalg.norm(g) > 1e-10):\n",
    "        xk = np.add(x, np.multiply(a, p))\n",
    "        gk = calc_g(A, B, xk)\n",
    "        b = calc_b(A, p, gk)\n",
    "        pk = calc_p(gk, b, p)\n",
    "        ak = calc_a(A, pk, gk)\n",
    "        \n",
    "        apx1 = np.linalg.norm(g) / np.linalg.norm(b)\n",
    "        apx2 = np.linalg.norm(np.subtract(xk, x)) / np.linalg.norm(xk)\n",
    "        if (np.allclose([apx1, apx2], [0, 0])):\n",
    "            break\n",
    "        \n",
    "        x=xk\n",
    "        g=gk\n",
    "        p=pk\n",
    "        a=ak\n",
    "        it = it + 1\n",
    "        if (it == max_iterations):\n",
    "            print(\"Решение не было найдено за {0} шагов.\".format(max_iterations))\n",
    "            return x\n",
    "    print(\"Решение найдено за {0} итераций.\".format(it))    \n",
    "    return x    "
   ]
  },
  {
   "cell_type": "markdown",
   "metadata": {},
   "source": [
    "Напишем функцию сравнения библиотечного и авторского решения."
   ]
  },
  {
   "cell_type": "code",
   "execution_count": 4,
   "metadata": {},
   "outputs": [],
   "source": [
    "def compare_solutions(A, B, X):\n",
    "    sol_b = np.dot(A, X)\n",
    "    print(\"Решение является точным? {0}\".format(np.allclose(sol_b, B)))"
   ]
  },
  {
   "cell_type": "markdown",
   "metadata": {},
   "source": [
    "Загрузим из файлов матрицы, на которых мы будем проверять корректность реализации."
   ]
  },
  {
   "cell_type": "code",
   "execution_count": 5,
   "metadata": {
    "ExecuteTime": {
     "end_time": "2020-04-26T21:35:18.234818Z",
     "start_time": "2020-04-26T21:35:18.220677Z"
    }
   },
   "outputs": [],
   "source": [
    "delimiter = ','\n",
    "well = np.loadtxt('well.txt', delimiter=delimiter)\n",
    "random = np.loadtxt('random.txt', delimiter=delimiter)\n",
    "poor = np.loadtxt('poor.txt', delimiter=delimiter)\n",
    "b = np.loadtxt('right.txt', delimiter=delimiter)"
   ]
  },
  {
   "cell_type": "markdown",
   "metadata": {},
   "source": [
    "## Решение хорошо обусловленной матрицы."
   ]
  },
  {
   "cell_type": "code",
   "execution_count": 6,
   "metadata": {
    "scrolled": true
   },
   "outputs": [
    {
     "name": "stdout",
     "output_type": "stream",
     "text": [
      "Решение найдено за 9 итераций.\n",
      "Решение является точным? True\n"
     ]
    }
   ],
   "source": [
    "well_x = solve(well, b)\n",
    "compare_solutions(well, b, well_x)"
   ]
  },
  {
   "cell_type": "markdown",
   "metadata": {},
   "source": [
    "## Решение рандомной матрицы."
   ]
  },
  {
   "cell_type": "code",
   "execution_count": 7,
   "metadata": {},
   "outputs": [
    {
     "name": "stdout",
     "output_type": "stream",
     "text": [
      "Решение найдено за 11 итераций.\n",
      "Решение является точным? True\n"
     ]
    }
   ],
   "source": [
    "random_x = solve(random, b)\n",
    "compare_solutions(random, b, random_x)"
   ]
  },
  {
   "cell_type": "markdown",
   "metadata": {},
   "source": [
    "_Вывод: Зачастую для нее требуется больше чем n шагов из-за накопленной машинной погрешности._"
   ]
  },
  {
   "cell_type": "markdown",
   "metadata": {},
   "source": [
    "## Решение плохо обусловленной матрицы."
   ]
  },
  {
   "cell_type": "code",
   "execution_count": 8,
   "metadata": {},
   "outputs": [
    {
     "name": "stdout",
     "output_type": "stream",
     "text": [
      "Решение не было найдено за 1000 шагов.\n",
      "Решение является точным? False\n"
     ]
    }
   ],
   "source": [
    "poor_x = solve(poor, b)\n",
    "compare_solutions(poor, b, poor_x)"
   ]
  },
  {
   "cell_type": "markdown",
   "metadata": {},
   "source": [
    "_Вывод: К сожалению, для данной матрицы решение не удается найти точное решение за обозримое количество времени в силу связи погрешности и обусловленности._"
   ]
  },
  {
   "cell_type": "markdown",
   "metadata": {},
   "source": [
    "Теперь сохраним наши результаты в таблицу."
   ]
  },
  {
   "cell_type": "code",
   "execution_count": 9,
   "metadata": {
    "ExecuteTime": {
     "end_time": "2020-04-26T21:37:17.553690Z",
     "start_time": "2020-04-26T21:37:17.549728Z"
    }
   },
   "outputs": [],
   "source": [
    "gradient_df = pd.DataFrame({'well': well_x, 'random': random_x, 'poor': poor_x})"
   ]
  },
  {
   "cell_type": "code",
   "execution_count": 10,
   "metadata": {
    "ExecuteTime": {
     "end_time": "2020-04-26T21:37:17.577165Z",
     "start_time": "2020-04-26T21:37:17.556040Z"
    },
    "scrolled": true
   },
   "outputs": [],
   "source": [
    "gradient_df.to_csv('gradient.csv', index=None)"
   ]
  }
 ],
 "metadata": {
  "kernelspec": {
   "display_name": "Python 3",
   "language": "python",
   "name": "python3"
  },
  "language_info": {
   "codemirror_mode": {
    "name": "ipython",
    "version": 3
   },
   "file_extension": ".py",
   "mimetype": "text/x-python",
   "name": "python",
   "nbconvert_exporter": "python",
   "pygments_lexer": "ipython3",
   "version": "3.6.4"
  }
 },
 "nbformat": 4,
 "nbformat_minor": 4
}
