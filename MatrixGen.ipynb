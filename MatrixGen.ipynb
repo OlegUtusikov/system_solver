{
 "cells": [
  {
   "cell_type": "markdown",
   "metadata": {},
   "source": [
    "### В этом файле содержится код для генерации матриц, используемых для проверки и сравнения методов."
   ]
  },
  {
   "cell_type": "code",
   "execution_count": 1,
   "metadata": {
    "ExecuteTime": {
     "end_time": "2020-04-26T20:04:37.660935Z",
     "start_time": "2020-04-26T20:04:37.513701Z"
    }
   },
   "outputs": [],
   "source": [
    "import numpy as np\n",
    "from math import sqrt"
   ]
  },
  {
   "cell_type": "markdown",
   "metadata": {},
   "source": [
    "Вспомогательная функция для красивого вывода матриц."
   ]
  },
  {
   "cell_type": "code",
   "execution_count": 2,
   "metadata": {
    "ExecuteTime": {
     "end_time": "2020-04-26T20:04:37.669169Z",
     "start_time": "2020-04-26T20:04:37.663768Z"
    }
   },
   "outputs": [],
   "source": [
    "def matprint(mat, fmt=\"g\"):\n",
    "    col_maxes = [max([len((\"{:\"+fmt+\"}\").format(x)) for x in col]) for col in mat.T]\n",
    "    for x in mat:\n",
    "        for i, y in enumerate(x):\n",
    "            print((\"{:\"+str(col_maxes[i])+fmt+\"}\").format(y), end=\"  \")\n",
    "        print(\"\")"
   ]
  },
  {
   "cell_type": "markdown",
   "metadata": {},
   "source": [
    "Зададим размер матриц."
   ]
  },
  {
   "cell_type": "code",
   "execution_count": 3,
   "metadata": {
    "ExecuteTime": {
     "end_time": "2020-04-26T20:04:37.680257Z",
     "start_time": "2020-04-26T20:04:37.672142Z"
    }
   },
   "outputs": [],
   "source": [
    "N = 10"
   ]
  },
  {
   "cell_type": "markdown",
   "metadata": {},
   "source": [
    "Добавим ряд проверок для будущих матриц."
   ]
  },
  {
   "cell_type": "code",
   "execution_count": 4,
   "metadata": {
    "ExecuteTime": {
     "end_time": "2020-04-26T20:04:37.704355Z",
     "start_time": "2020-04-26T20:04:37.681842Z"
    }
   },
   "outputs": [],
   "source": [
    "def is_symm(x):\n",
    "    for i in range(len(x)):\n",
    "        for j in range(len(x)):\n",
    "            if (not np.isclose(x[i][j], x[j][i])):\n",
    "                return False\n",
    "    return True\n",
    "\n",
    "def is_pos_def(x):\n",
    "    return np.all(np.linalg.eigvals(x) > 0)\n",
    "\n",
    "def is_diag_dom(x):    \n",
    "    D = np.diag(np.abs(x))\n",
    "    S = np.sum(np.abs(x), axis=1) - D\n",
    "    return np.all(D > S)\n",
    "\n",
    "def is_norm(x, a, b):\n",
    "    return np.all(np.logical_and(x >= a, x <= b))"
   ]
  },
  {
   "cell_type": "markdown",
   "metadata": {},
   "source": [
    "%%latex\n",
    "\n",
    "Научимся генерировать случайную симметричную положительную матрицу с числами из диапазона 0-1. Для этого сгенерируем случайную матрицу с числами из диапазона 0-1, \"отзеркалим\", и поделим ее на $\\sqrt{n}$."
   ]
  },
  {
   "cell_type": "code",
   "execution_count": 5,
   "metadata": {
    "ExecuteTime": {
     "end_time": "2020-04-26T20:04:37.716855Z",
     "start_time": "2020-04-26T20:04:37.708198Z"
    }
   },
   "outputs": [],
   "source": [
    "def gen_random(n):\n",
    "    a = np.random.rand(n, n)\n",
    "    m = np.tril(a) + np.tril(a, -1).T\n",
    "    m = np.true_divide(m, sqrt(n))\n",
    "    return np.dot(m, m.transpose())"
   ]
  },
  {
   "cell_type": "markdown",
   "metadata": {},
   "source": [
    "Научимся генерировать хорошо обусловленную матрицу, в которой для каждого элемента диагонали выполняется строгое равенство."
   ]
  },
  {
   "cell_type": "code",
   "execution_count": 6,
   "metadata": {
    "ExecuteTime": {
     "end_time": "2020-04-26T20:04:37.731214Z",
     "start_time": "2020-04-26T20:04:37.722433Z"
    }
   },
   "outputs": [],
   "source": [
    "def gen_well_conditioned(n):\n",
    "    a = gen_random(n)\n",
    "    D = 0.5\n",
    "    for i in range(n):\n",
    "        a[i][i] = sum(a[i]) - a[i][i] + D\n",
    "    return a"
   ]
  },
  {
   "cell_type": "markdown",
   "metadata": {},
   "source": [
    "Научимся генерировать плохо обусловленную матрицу. Тривиально."
   ]
  },
  {
   "cell_type": "code",
   "execution_count": 7,
   "metadata": {
    "ExecuteTime": {
     "end_time": "2020-04-26T20:04:37.744723Z",
     "start_time": "2020-04-26T20:04:37.735938Z"
    }
   },
   "outputs": [],
   "source": [
    "def gen_poorly_conditioned(n):\n",
    "    return np.array([[1 / (1 + i + j) for i in range(n)] for j in range(n)])"
   ]
  },
  {
   "cell_type": "markdown",
   "metadata": {},
   "source": [
    "Сгенерируем столбец свободных коэффициентов, общий для всех матриц."
   ]
  },
  {
   "cell_type": "code",
   "execution_count": 8,
   "metadata": {
    "ExecuteTime": {
     "end_time": "2020-04-26T20:04:37.757594Z",
     "start_time": "2020-04-26T20:04:37.747904Z"
    }
   },
   "outputs": [],
   "source": [
    "b = np.random.rand(N)"
   ]
  },
  {
   "cell_type": "markdown",
   "metadata": {},
   "source": [
    "**Сгенерируем все 3 матрицы, для каждой выполним проверку на соответствие заданным условиям и сохраним их в файл. Эти матрицы будут в дальнейшем использоваться для проверки различных методов и их сравнения.**"
   ]
  },
  {
   "cell_type": "markdown",
   "metadata": {},
   "source": [
    "Хорошо обусловленная матрица:"
   ]
  },
  {
   "cell_type": "code",
   "execution_count": 9,
   "metadata": {
    "ExecuteTime": {
     "end_time": "2020-04-26T20:04:37.796042Z",
     "start_time": "2020-04-26T20:04:37.761051Z"
    }
   },
   "outputs": [
    {
     "name": "stdout",
     "output_type": "stream",
     "text": [
      " 2.82622  0.155787  0.316136  0.278254   0.27169  0.220576  0.221638  0.328687  0.235647  0.297809  \n",
      "0.155787   2.13939  0.200077   0.20067  0.157949  0.156371  0.144816  0.211407  0.216417  0.195898  \n",
      "0.316136  0.200077   3.35898  0.354802  0.329449  0.278091   0.32436  0.365637  0.323395  0.367031  \n",
      "0.278254   0.20067  0.354802   3.08394  0.267778  0.243274  0.260838  0.307294   0.28327  0.387764  \n",
      " 0.27169  0.157949  0.329449  0.267778   2.83571  0.278382  0.241249  0.310632  0.207521  0.271064  \n",
      "0.220576  0.156371  0.278091  0.243274  0.278382   2.55615  0.228674  0.250451  0.177442  0.222893  \n",
      "0.221638  0.144816   0.32436  0.260838  0.241249  0.228674   2.63271  0.240184  0.215661  0.255285  \n",
      "0.328687  0.211407  0.365637  0.307294  0.310632  0.250451  0.240184   3.14272   0.30147  0.326954  \n",
      "0.235647  0.216417  0.323395   0.28327  0.207521  0.177442  0.215661   0.30147    2.7568  0.295972  \n",
      "0.297809  0.195898  0.367031  0.387764  0.271064  0.222893  0.255285  0.326954  0.295972   3.12067  \n"
     ]
    }
   ],
   "source": [
    "well = gen_well_conditioned(N)\n",
    "assert(is_symm(well))\n",
    "assert(is_pos_def(well))\n",
    "assert(is_diag_dom(well))\n",
    "matprint(well)"
   ]
  },
  {
   "cell_type": "markdown",
   "metadata": {},
   "source": [
    "Рандомная матрица:"
   ]
  },
  {
   "cell_type": "code",
   "execution_count": 10,
   "metadata": {
    "ExecuteTime": {
     "end_time": "2020-04-26T20:04:37.828687Z",
     "start_time": "2020-04-26T20:04:37.800193Z"
    }
   },
   "outputs": [
    {
     "name": "stdout",
     "output_type": "stream",
     "text": [
      "0.297726  0.176547  0.287715  0.273211   0.23333  0.247274   0.129323  0.231289   0.134482  0.189552  \n",
      "0.176547  0.204856  0.225844  0.194821  0.188989  0.200112   0.103468  0.143333   0.141969  0.158657  \n",
      "0.287715  0.225844  0.415294   0.33006  0.349434  0.328657   0.151298   0.27527   0.293999   0.27677  \n",
      "0.273211  0.194821   0.33006  0.420604  0.330291  0.317661   0.168649  0.256893   0.261133  0.233656  \n",
      " 0.23333  0.188989  0.349434  0.330291  0.454602  0.280871   0.196723  0.302325   0.302345  0.288725  \n",
      "0.247274  0.200112  0.328657  0.317661  0.280871  0.307591   0.150271  0.198974   0.227854   0.22271  \n",
      "0.129323  0.103468  0.151298  0.168649  0.196723  0.150271    0.19079  0.162144  0.0815295  0.188212  \n",
      "0.231289  0.143333   0.27527  0.256893  0.302325  0.198974   0.162144  0.303542   0.190971  0.242407  \n",
      "0.134482  0.141969  0.293999  0.261133  0.302345  0.227854  0.0815295  0.190971   0.314891  0.202703  \n",
      "0.189552  0.158657   0.27677  0.233656  0.288725   0.22271   0.188212  0.242407   0.202703  0.298126  \n"
     ]
    }
   ],
   "source": [
    "random = gen_random(N)\n",
    "assert(is_symm(random))\n",
    "assert(is_pos_def(random))\n",
    "assert(is_norm(random, 0, 1))\n",
    "matprint(random)"
   ]
  },
  {
   "cell_type": "markdown",
   "metadata": {},
   "source": [
    "Очень плохо обусловленная матрица:"
   ]
  },
  {
   "cell_type": "code",
   "execution_count": 11,
   "metadata": {
    "ExecuteTime": {
     "end_time": "2020-04-26T20:04:37.840394Z",
     "start_time": "2020-04-26T20:04:37.831348Z"
    }
   },
   "outputs": [
    {
     "name": "stdout",
     "output_type": "stream",
     "text": [
      "       1        0.5   0.333333       0.25        0.2   0.166667   0.142857      0.125   0.111111        0.1  \n",
      "     0.5   0.333333       0.25        0.2   0.166667   0.142857      0.125   0.111111        0.1  0.0909091  \n",
      "0.333333       0.25        0.2   0.166667   0.142857      0.125   0.111111        0.1  0.0909091  0.0833333  \n",
      "    0.25        0.2   0.166667   0.142857      0.125   0.111111        0.1  0.0909091  0.0833333  0.0769231  \n",
      "     0.2   0.166667   0.142857      0.125   0.111111        0.1  0.0909091  0.0833333  0.0769231  0.0714286  \n",
      "0.166667   0.142857      0.125   0.111111        0.1  0.0909091  0.0833333  0.0769231  0.0714286  0.0666667  \n",
      "0.142857      0.125   0.111111        0.1  0.0909091  0.0833333  0.0769231  0.0714286  0.0666667     0.0625  \n",
      "   0.125   0.111111        0.1  0.0909091  0.0833333  0.0769231  0.0714286  0.0666667     0.0625  0.0588235  \n",
      "0.111111        0.1  0.0909091  0.0833333  0.0769231  0.0714286  0.0666667     0.0625  0.0588235  0.0555556  \n",
      "     0.1  0.0909091  0.0833333  0.0769231  0.0714286  0.0666667     0.0625  0.0588235  0.0555556  0.0526316  \n"
     ]
    }
   ],
   "source": [
    "poor = gen_poorly_conditioned(N)\n",
    "assert(is_symm(poor))\n",
    "assert(is_pos_def(poor))\n",
    "matprint(poor)"
   ]
  },
  {
   "cell_type": "code",
   "execution_count": 12,
   "metadata": {
    "ExecuteTime": {
     "end_time": "2020-04-26T20:04:37.857507Z",
     "start_time": "2020-04-26T20:04:37.843120Z"
    }
   },
   "outputs": [],
   "source": [
    "delimiter = ','\n",
    "np.savetxt('well.txt', well, delimiter=delimiter)\n",
    "np.savetxt('random.txt', random, delimiter=delimiter)\n",
    "np.savetxt('poor.txt', poor, delimiter=delimiter)\n",
    "np.savetxt('right.txt', b, delimiter=delimiter)"
   ]
  },
  {
   "cell_type": "code",
   "execution_count": null,
   "metadata": {},
   "outputs": [],
   "source": []
  }
 ],
 "metadata": {
  "hide_input": false,
  "kernelspec": {
   "display_name": "Python 3",
   "language": "python",
   "name": "python3"
  },
  "language_info": {
   "codemirror_mode": {
    "name": "ipython",
    "version": 3
   },
   "file_extension": ".py",
   "mimetype": "text/x-python",
   "name": "python",
   "nbconvert_exporter": "python",
   "pygments_lexer": "ipython3",
   "version": "3.6.5"
  },
  "latex_envs": {
   "LaTeX_envs_menu_present": true,
   "autoclose": false,
   "autocomplete": true,
   "bibliofile": "biblio.bib",
   "cite_by": "apalike",
   "current_citInitial": 1,
   "eqLabelWithNumbers": true,
   "eqNumInitial": 1,
   "hotkeys": {
    "equation": "Ctrl-E",
    "itemize": "Ctrl-I"
   },
   "labels_anchors": false,
   "latex_user_defs": false,
   "report_style_numbering": false,
   "user_envs_cfg": false
  },
  "varInspector": {
   "cols": {
    "lenName": 16,
    "lenType": 16,
    "lenVar": 40
   },
   "kernels_config": {
    "python": {
     "delete_cmd_postfix": "",
     "delete_cmd_prefix": "del ",
     "library": "var_list.py",
     "varRefreshCmd": "print(var_dic_list())"
    },
    "r": {
     "delete_cmd_postfix": ") ",
     "delete_cmd_prefix": "rm(",
     "library": "var_list.r",
     "varRefreshCmd": "cat(var_dic_list()) "
    }
   },
   "types_to_exclude": [
    "module",
    "function",
    "builtin_function_or_method",
    "instance",
    "_Feature"
   ],
   "window_display": false
  }
 },
 "nbformat": 4,
 "nbformat_minor": 2
}
